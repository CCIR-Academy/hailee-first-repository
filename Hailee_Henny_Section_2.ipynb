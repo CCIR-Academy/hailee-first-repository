{
  "nbformat": 4,
  "nbformat_minor": 0,
  "metadata": {
    "colab": {
      "name": "Copy of Section 2.ipynb",
      "provenance": [],
      "collapsed_sections": [],
      "toc_visible": true,
      "include_colab_link": true
    },
    "kernelspec": {
      "name": "python3",
      "display_name": "Python 3"
    },
    "language_info": {
      "name": "python"
    }
  },
  "cells": [
    {
      "cell_type": "markdown",
      "metadata": {
        "id": "view-in-github",
        "colab_type": "text"
      },
      "source": [
        "<a href=\"https://colab.research.google.com/github/CCIR-Academy/hailee-first-repository/blob/main/Hailee_Henny_Section_2.ipynb\" target=\"_parent\"><img src=\"https://colab.research.google.com/assets/colab-badge.svg\" alt=\"Open In Colab\"/></a>"
      ]
    },
    {
      "cell_type": "code",
      "metadata": {
        "id": "MMjVdTyTzdYf"
      },
      "source": [
        "# Challenge 1: Try to calculate the sum of all integers between 0 to 100 in your own way.\n",
        "i=1\n",
        "sum=0\n",
        "while i<=100:\n",
        "  sum=sum+i\n",
        "  print (\"the sum is:\", sum)\n",
        "  i=i+1\n",
        "print (\"Sum of the numbers 1-100 is :\", sum)\n",
        "\n",
        "#done with this challenge\n"
      ],
      "execution_count": null,
      "outputs": []
    },
    {
      "cell_type": "code",
      "metadata": {
        "colab": {
          "base_uri": "https://localhost:8080/"
        },
        "id": "5WUcfiDgu6fj",
        "outputId": "b4b3ef81-326f-44b7-ba89-1e85aa41f466"
      },
      "source": [
        "# Challenge 2: Try to define a function which can take 2 parameters of integers, and calculate the sum of all the integers in between.\n",
        "\n",
        "\n",
        "def sumIntegers(min_int:int, max_int:int) -> int:\n",
        "    return(sum([x for x in range(min_int, max_int +1)]))\n",
        "\n",
        "\n",
        "sumIntegers(0, 100)\n"
      ],
      "execution_count": null,
      "outputs": [
        {
          "output_type": "execute_result",
          "data": {
            "text/plain": [
              "5050"
            ]
          },
          "metadata": {
            "tags": []
          },
          "execution_count": 3
        }
      ]
    },
    {
      "cell_type": "code",
      "metadata": {
        "id": "Wzf92zIBu6x7"
      },
      "source": [
        "# Challenge 3: Try to make the function you created for Challenge able to handle inappropriate input exceptions elegantly.\n",
        "   \n",
        "\n",
        "def sumIntegers(min_int:int, max_int:int) -> int:\n",
        "    return(sum([x for x in range(min_int, max_int +1)]))\n",
        "\n",
        "\n",
        "sumIntegers(0, 100)"
      ],
      "execution_count": null,
      "outputs": []
    },
    {
      "cell_type": "markdown",
      "metadata": {
        "id": "V7U2orS8siDr"
      },
      "source": [
        "Challenge 4 (Difficult!): Try to define a class of \"mathBot\" which has the following features:\n",
        "- Can be created with arguments that specify date of creation, the name of the created instance, and other properties. These properties should be also editable.\n",
        "- Comes with a memory module that can store/retrieve/update/eliminate data in number into/from different datasets with different label names.\n",
        "- Comes with a stat module that can analyze the stored datasets statistically, such as generating the mean, median, variance, etc.\n",
        "- Is able to handle invalid input.\n",
        "- (Optional and Even Harder! Do it if you enjoy and want to explore) You can build your new class on the base of ChaiBot from Chai.ml! Try it out by referencing this guide: https://collectednotes.com/chai/your-first-chat-ai-in-10-minutes\n",
        "- (To Inifinity and Beyond): You can deploy your bot directly to chai.ml and play with it (Would be discussed on Section 4).\n",
        "    - In addition the the guide provided above, try this one: https://chai.ml/docs/basic\n"
      ]
    },
    {
      "cell_type": "code",
      "metadata": {
        "id": "EisNFsXItaSW"
      },
      "source": [
        "# Challenge 4 (Difficult!): Try to define a class of \"mathBot\" which has the following features:\n",
        "   \n",
        "%pip install chaipy nest_asyncio\n",
        "\n",
        "\n",
        "from chai_py import ChaiBot, Update, TRoom\n",
        "import datetime, asyncio\n",
        "import nest_asyncio\n",
        "nest_asyncio.apply()\n",
        "\n",
        "\n",
        "\n",
        "# This bot is just for the purpose of demonstration and is not fully done yet.\n",
        "class myCCIRBot(ChaiBot):        \n",
        "    def setup(self) -> None:\n",
        "        self.logger.info(\"Hello, world!\")\n",
        "        name = input(\"Please give me a name if you don't want to call me CCIRBot!\") or \"CCIRBot\"\n",
        "        parentName = input(\"Please tell me who created me if I am not created by Hailee!\") or \"Hailee\"\n",
        "        self.botName = name\n",
        "        self.dateOfCreation = datetime.datetime.now()\n",
        "        self.parentName = parentName\n",
        "        self.dataStorageDict = {}\n",
        "    def storeData():\n",
        "        return\n",
        "    async def on_message(self, update: Update) -> str:\n",
        "        if update.latest_message.text == \"name\":\n",
        "            return f\"My name is {self.botName}\"\n",
        "        if update.latest_message.text == \"parent\":\n",
        "            return f\"I was created by {self.botName} on {self.dateOfCreation.strftime('%Y-%m-%d')}.\"\n",
        "        return f\"Echo: {update.latest_message.text}\"\n",
        "\n",
        "t_room = TRoom([myCCIRBot()])\n",
        "t_room.chat()\n",
        "def sumIntegers(min_int:int, max_int:int) -> int:\n",
        "    return(sum([x for x in range(min_int, max_int +1)]))\n",
        "\n",
        "\n",
        "sumIntegers(0, 100)"
      ],
      "execution_count": null,
      "outputs": []
    }
  ]
}